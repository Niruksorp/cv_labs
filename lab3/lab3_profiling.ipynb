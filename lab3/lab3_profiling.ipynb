{
 "cells": [
  {
   "cell_type": "code",
   "execution_count": 1,
   "outputs": [],
   "source": [
    "from torchvision.io import read_image\n",
    "img = read_image(\"data/12.jpg\")"
   ],
   "metadata": {
    "collapsed": false
   }
  },
  {
   "cell_type": "code",
   "execution_count": 2,
   "outputs": [
    {
     "name": "stdout",
     "output_type": "stream",
     "text": [
      "---------------------------------  ------------  ------------  ------------  ------------  ------------  ------------  ------------  ------------  \n",
      "                             Name    Self CPU %      Self CPU   CPU total %     CPU total  CPU time avg       CPU Mem  Self CPU Mem    # of Calls  \n",
      "---------------------------------  ------------  ------------  ------------  ------------  ------------  ------------  ------------  ------------  \n",
      "                      aten::empty         0.98%       1.135ms         0.98%       1.135ms       2.677us      84.97 Mb      84.97 Mb           424  \n",
      "    aten::max_pool2d_with_indices         1.10%       1.280ms         1.10%       1.280ms       1.280ms       2.30 Mb       2.30 Mb             1  \n",
      "                 aten::batch_norm         0.35%     409.000us         7.60%       8.834ms     166.679us      42.40 Mb      98.00 Kb            53  \n",
      "                       aten::mean         0.21%     246.000us         0.29%     340.000us     340.000us       8.00 Kb       7.99 Kb             1  \n",
      "                      aten::addmm         1.86%       2.158ms         1.86%       2.166ms       2.166ms       3.91 Kb       3.91 Kb             1  \n",
      "                         aten::to         0.02%      19.000us         0.02%      19.000us      19.000us           4 b           4 b             1  \n",
      "              aten::empty_strided         0.00%       3.000us         0.00%       3.000us       3.000us           4 b           4 b             1  \n",
      "                     aten::conv2d         0.24%     275.000us        83.98%      97.571ms       1.841ms      42.40 Mb           0 b            53  \n",
      "                aten::convolution         0.92%       1.070ms        83.74%      97.296ms       1.836ms      42.40 Mb           0 b            53  \n",
      "               aten::_convolution         0.47%     550.000us        82.82%      96.226ms       1.816ms      42.40 Mb           0 b            53  \n",
      "---------------------------------  ------------  ------------  ------------  ------------  ------------  ------------  ------------  ------------  \n",
      "Self CPU time total: 116.188ms\n",
      "\n",
      "---------------------------------  ------------  ------------  ------------  ------------  ------------  ------------  ------------  ------------  \n",
      "                             Name    Self CPU %      Self CPU   CPU total %     CPU total  CPU time avg       CPU Mem  Self CPU Mem    # of Calls  \n",
      "---------------------------------  ------------  ------------  ------------  ------------  ------------  ------------  ------------  ------------  \n",
      "                      aten::empty         0.98%       1.135ms         0.98%       1.135ms       2.677us      84.97 Mb      84.97 Mb           424  \n",
      "                     aten::conv2d         0.24%     275.000us        83.98%      97.571ms       1.841ms      42.40 Mb           0 b            53  \n",
      "                aten::convolution         0.92%       1.070ms        83.74%      97.296ms       1.836ms      42.40 Mb           0 b            53  \n",
      "               aten::_convolution         0.47%     550.000us        82.82%      96.226ms       1.816ms      42.40 Mb           0 b            53  \n",
      "         aten::mkldnn_convolution        81.71%      94.938ms        82.35%      95.676ms       1.805ms      42.40 Mb           0 b            53  \n",
      "                 aten::batch_norm         0.35%     409.000us         7.60%       8.834ms     166.679us      42.40 Mb      98.00 Kb            53  \n",
      "     aten::_batch_norm_impl_index         0.64%     749.000us         7.29%       8.470ms     159.811us      42.40 Mb           0 b            53  \n",
      "          aten::native_batch_norm         6.10%       7.090ms         6.59%       7.652ms     144.377us      42.40 Mb    -186.00 Kb            53  \n",
      "                 aten::empty_like         0.12%     137.000us         0.34%     400.000us       7.547us      42.40 Mb           0 b            53  \n",
      "                 aten::max_pool2d         0.16%     187.000us         1.26%       1.467ms       1.467ms       2.30 Mb           0 b             1  \n",
      "---------------------------------  ------------  ------------  ------------  ------------  ------------  ------------  ------------  ------------  \n",
      "Self CPU time total: 116.188ms\n",
      "\n"
     ]
    }
   ],
   "source": [
    "from torchvision.models import resnet50, ResNet50_Weights\n",
    "from torch.profiler import profile, record_function, ProfilerActivity\n",
    "\n",
    "# Step 1: Initialize model with the best available weights\n",
    "weights = ResNet50_Weights.DEFAULT\n",
    "model = resnet50(weights=weights)\n",
    "model.eval()\n",
    "\n",
    "# Step 2: Initialize the inference transforms\n",
    "preprocess = weights.transforms()\n",
    "\n",
    "# Step 3: Apply inference preprocessing transforms\n",
    "batch = preprocess(img).unsqueeze(0)\n",
    "\n",
    "with profile(activities=[ProfilerActivity.CPU],\n",
    "        profile_memory=True, record_shapes=True) as prof:\n",
    "    model(batch)\n",
    "\n",
    "print(prof.key_averages().table(sort_by=\"self_cpu_memory_usage\", row_limit=10))\n",
    "print(prof.key_averages().table(sort_by=\"cpu_memory_usage\", row_limit=10))\n"
   ],
   "metadata": {
    "collapsed": false
   }
  },
  {
   "cell_type": "code",
   "execution_count": 4,
   "outputs": [
    {
     "name": "stdout",
     "output_type": "stream",
     "text": [
      "---------------------------------  ------------  ------------  ------------  ------------  ------------  ------------  ------------  ------------  \n",
      "                             Name    Self CPU %      Self CPU   CPU total %     CPU total  CPU time avg       CPU Mem  Self CPU Mem    # of Calls  \n",
      "---------------------------------  ------------  ------------  ------------  ------------  ------------  ------------  ------------  ------------  \n",
      "                      aten::empty         0.22%      89.000us         0.22%      89.000us       8.091us       1.85 Mb       1.85 Mb            11  \n",
      "    aten::max_pool2d_with_indices         1.66%     671.000us         1.66%     671.000us     223.667us       1.01 Mb       1.01 Mb             3  \n",
      "                    aten::resize_         0.04%      16.000us         0.04%      16.000us      16.000us      36.00 Kb      36.00 Kb             1  \n",
      "                      aten::addmm        28.52%      11.511ms        28.63%      11.555ms       3.852ms      35.91 Kb      35.91 Kb             3  \n",
      "                     aten::conv2d         0.09%      37.000us        65.94%      26.617ms       5.323ms       1.85 Mb           0 b             5  \n",
      "                aten::convolution         0.29%     118.000us        65.85%      26.580ms       5.316ms       1.85 Mb           0 b             5  \n",
      "               aten::_convolution         0.15%      60.000us        65.56%      26.462ms       5.292ms       1.85 Mb           0 b             5  \n",
      "         aten::mkldnn_convolution        65.17%      26.308ms        65.41%      26.402ms       5.280ms       1.85 Mb           0 b             5  \n",
      "                aten::as_strided_         0.02%      10.000us         0.02%      10.000us       2.000us           0 b           0 b             5  \n",
      "                      aten::relu_         0.33%     133.000us         0.89%     358.000us      51.143us           0 b           0 b             7  \n",
      "---------------------------------  ------------  ------------  ------------  ------------  ------------  ------------  ------------  ------------  \n",
      "Self CPU time total: 40.366ms\n",
      "\n",
      "---------------------------------  ------------  ------------  ------------  ------------  ------------  ------------  ------------  ------------  \n",
      "                             Name    Self CPU %      Self CPU   CPU total %     CPU total  CPU time avg       CPU Mem  Self CPU Mem    # of Calls  \n",
      "---------------------------------  ------------  ------------  ------------  ------------  ------------  ------------  ------------  ------------  \n",
      "                     aten::conv2d         0.09%      37.000us        65.94%      26.617ms       5.323ms       1.85 Mb           0 b             5  \n",
      "                aten::convolution         0.29%     118.000us        65.85%      26.580ms       5.316ms       1.85 Mb           0 b             5  \n",
      "               aten::_convolution         0.15%      60.000us        65.56%      26.462ms       5.292ms       1.85 Mb           0 b             5  \n",
      "         aten::mkldnn_convolution        65.17%      26.308ms        65.41%      26.402ms       5.280ms       1.85 Mb           0 b             5  \n",
      "                      aten::empty         0.22%      89.000us         0.22%      89.000us       8.091us       1.85 Mb       1.85 Mb            11  \n",
      "                 aten::max_pool2d         0.03%      12.000us         1.69%     683.000us     227.667us       1.01 Mb           0 b             3  \n",
      "    aten::max_pool2d_with_indices         1.66%     671.000us         1.66%     671.000us     223.667us       1.01 Mb       1.01 Mb             3  \n",
      "        aten::adaptive_avg_pool2d         1.19%     479.000us         2.51%       1.015ms       1.015ms      36.00 Kb           0 b             1  \n",
      "       aten::_adaptive_avg_pool2d         1.28%     515.000us         1.33%     536.000us     536.000us      36.00 Kb           0 b             1  \n",
      "                    aten::resize_         0.04%      16.000us         0.04%      16.000us      16.000us      36.00 Kb      36.00 Kb             1  \n",
      "---------------------------------  ------------  ------------  ------------  ------------  ------------  ------------  ------------  ------------  \n",
      "Self CPU time total: 40.366ms\n",
      "\n"
     ]
    }
   ],
   "source": [
    "from torchvision.models import alexnet, ResNet50_Weights, AlexNet_Weights\n",
    "\n",
    "# Step 1: Initialize model with the best available weights\n",
    "weights = AlexNet_Weights.IMAGENET1K_V1\n",
    "model = alexnet(weights=weights)\n",
    "model.eval()\n",
    "\n",
    "# Step 2: Initialize the inference transforms\n",
    "preprocess = weights.transforms()\n",
    "\n",
    "# Step 3: Apply inference preprocessing transforms\n",
    "batch = preprocess(img).unsqueeze(0)\n",
    "\n",
    "# Step 4: Use the model and print the predicted category\n",
    "with profile(activities=[ProfilerActivity.CPU],\n",
    "        profile_memory=True, record_shapes=True) as prof:\n",
    "    model(batch)\n",
    "print(prof.key_averages().table(sort_by=\"self_cpu_memory_usage\", row_limit=10))\n",
    "print(prof.key_averages().table(sort_by=\"cpu_memory_usage\", row_limit=10))"
   ],
   "metadata": {
    "collapsed": false
   }
  },
  {
   "cell_type": "code",
   "execution_count": 5,
   "outputs": [
    {
     "name": "stdout",
     "output_type": "stream",
     "text": [
      "---------------------------------  ------------  ------------  ------------  ------------  ------------  ------------  ------------  ------------  \n",
      "                             Name    Self CPU %      Self CPU   CPU total %     CPU total  CPU time avg       CPU Mem  Self CPU Mem    # of Calls  \n",
      "---------------------------------  ------------  ------------  ------------  ------------  ------------  ------------  ------------  ------------  \n",
      "                      aten::empty         0.25%     358.000us         0.25%     358.000us      13.259us      51.68 Mb      51.68 Mb            27  \n",
      "    aten::max_pool2d_with_indices         4.60%       6.487ms         4.60%       6.487ms       1.297ms      17.51 Mb      17.51 Mb             5  \n",
      "                    aten::resize_         0.00%       3.000us         0.00%       3.000us       3.000us      98.00 Kb      98.00 Kb             1  \n",
      "                      aten::addmm        13.86%      19.525ms        13.88%      19.552ms       6.517ms      35.91 Kb      35.91 Kb             3  \n",
      "                     aten::conv2d         0.05%      76.000us        79.13%     111.499ms       8.577ms      51.68 Mb           0 b            13  \n",
      "                aten::convolution         0.19%     274.000us        79.08%     111.423ms       8.571ms      51.68 Mb           0 b            13  \n",
      "               aten::_convolution         0.11%     150.000us        78.88%     111.149ms       8.550ms      51.68 Mb           0 b            13  \n",
      "         aten::mkldnn_convolution        78.50%     110.609ms        78.77%     110.999ms       8.538ms      51.68 Mb           0 b            13  \n",
      "                aten::as_strided_         0.02%      33.000us         0.02%      33.000us       2.538us           0 b           0 b            13  \n",
      "                      aten::relu_         0.20%     285.000us         2.22%       3.134ms     208.933us           0 b           0 b            15  \n",
      "---------------------------------  ------------  ------------  ------------  ------------  ------------  ------------  ------------  ------------  \n",
      "Self CPU time total: 140.907ms\n",
      "\n",
      "---------------------------------  ------------  ------------  ------------  ------------  ------------  ------------  ------------  ------------  \n",
      "                             Name    Self CPU %      Self CPU   CPU total %     CPU total  CPU time avg       CPU Mem  Self CPU Mem    # of Calls  \n",
      "---------------------------------  ------------  ------------  ------------  ------------  ------------  ------------  ------------  ------------  \n",
      "                     aten::conv2d         0.05%      76.000us        79.13%     111.499ms       8.577ms      51.68 Mb           0 b            13  \n",
      "                aten::convolution         0.19%     274.000us        79.08%     111.423ms       8.571ms      51.68 Mb           0 b            13  \n",
      "               aten::_convolution         0.11%     150.000us        78.88%     111.149ms       8.550ms      51.68 Mb           0 b            13  \n",
      "         aten::mkldnn_convolution        78.50%     110.609ms        78.77%     110.999ms       8.538ms      51.68 Mb           0 b            13  \n",
      "                      aten::empty         0.25%     358.000us         0.25%     358.000us      13.259us      51.68 Mb      51.68 Mb            27  \n",
      "                 aten::max_pool2d         0.02%      33.000us         4.63%       6.520ms       1.304ms      17.51 Mb           0 b             5  \n",
      "    aten::max_pool2d_with_indices         4.60%       6.487ms         4.60%       6.487ms       1.297ms      17.51 Mb      17.51 Mb             5  \n",
      "        aten::adaptive_avg_pool2d         0.00%       3.000us         0.09%     127.000us     127.000us      98.00 Kb           0 b             1  \n",
      "       aten::_adaptive_avg_pool2d         0.09%     120.000us         0.09%     124.000us     124.000us      98.00 Kb           0 b             1  \n",
      "                    aten::resize_         0.00%       3.000us         0.00%       3.000us       3.000us      98.00 Kb      98.00 Kb             1  \n",
      "---------------------------------  ------------  ------------  ------------  ------------  ------------  ------------  ------------  ------------  \n",
      "Self CPU time total: 140.907ms\n",
      "\n"
     ]
    }
   ],
   "source": [
    "from torchvision.models import vgg16, ResNet50_Weights, VGG16_Weights\n",
    "\n",
    "# Step 1: Initialize model with the best available weights\n",
    "weights = VGG16_Weights.IMAGENET1K_V1\n",
    "model = vgg16(weights=weights)\n",
    "model.eval()\n",
    "\n",
    "# Step 2: Initialize the inference transforms\n",
    "preprocess = weights.transforms()\n",
    "\n",
    "# Step 3: Apply inference preprocessing transforms\n",
    "batch = preprocess(img).unsqueeze(0)\n",
    "\n",
    "# Step 4: Use the model and print the predicted category\n",
    "with profile(activities=[ProfilerActivity.CPU],\n",
    "        profile_memory=True, record_shapes=True) as prof:\n",
    "    model(batch)\n",
    "print(prof.key_averages().table(sort_by=\"self_cpu_memory_usage\", row_limit=10))\n",
    "print(prof.key_averages().table(sort_by=\"cpu_memory_usage\", row_limit=10))"
   ],
   "metadata": {
    "collapsed": false
   }
  }
 ],
 "metadata": {
  "kernelspec": {
   "display_name": "Python 3",
   "language": "python",
   "name": "python3"
  },
  "language_info": {
   "codemirror_mode": {
    "name": "ipython",
    "version": 2
   },
   "file_extension": ".py",
   "mimetype": "text/x-python",
   "name": "python",
   "nbconvert_exporter": "python",
   "pygments_lexer": "ipython2",
   "version": "2.7.6"
  }
 },
 "nbformat": 4,
 "nbformat_minor": 0
}
