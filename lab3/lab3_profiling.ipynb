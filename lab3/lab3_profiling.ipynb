{
 "cells": [
  {
   "cell_type": "code",
   "execution_count": 7,
   "outputs": [],
   "source": [
    "from torchvision.io import read_image\n",
    "img = read_image(\"data/1.jpg\")"
   ],
   "metadata": {
    "collapsed": false
   }
  },
  {
   "cell_type": "code",
   "execution_count": 8,
   "outputs": [
    {
     "name": "stdout",
     "output_type": "stream",
     "text": [
      "---------------------------------  ------------  ------------  ------------  ------------  ------------  ------------  ------------  ------------  \n",
      "                             Name    Self CPU %      Self CPU   CPU total %     CPU total  CPU time avg       CPU Mem  Self CPU Mem    # of Calls  \n",
      "---------------------------------  ------------  ------------  ------------  ------------  ------------  ------------  ------------  ------------  \n",
      "                      aten::empty         0.86%       1.264ms         0.86%       1.264ms       2.981us      84.41 Mb      84.41 Mb           424  \n",
      "    aten::max_pool2d_with_indices         2.00%       2.946ms         2.00%       2.946ms       2.946ms       2.30 Mb       2.30 Mb             1  \n",
      "                 aten::empty_like         0.09%     126.000us         0.26%     391.000us       7.377us      42.40 Mb     588.00 Kb            53  \n",
      "                       aten::mean         0.71%       1.046ms         1.11%       1.637ms       1.637ms       8.00 Kb       8.00 Kb             1  \n",
      "                      aten::addmm         2.84%       4.195ms         2.85%       4.209ms       4.209ms       3.91 Kb       3.91 Kb             1  \n",
      "              aten::empty_strided         0.00%       4.000us         0.00%       4.000us       4.000us           4 b           4 b             1  \n",
      "                     aten::conv2d         0.58%     851.000us        79.22%     116.943ms       2.206ms      42.40 Mb           0 b            53  \n",
      "                aten::convolution         2.36%       3.488ms        78.64%     116.092ms       2.190ms      42.40 Mb           0 b            53  \n",
      "               aten::_convolution         0.54%     804.000us        76.28%     112.604ms       2.125ms      42.40 Mb           0 b            53  \n",
      "         aten::mkldnn_convolution        74.89%     110.546ms        75.73%     111.800ms       2.109ms      42.40 Mb           0 b            53  \n",
      "---------------------------------  ------------  ------------  ------------  ------------  ------------  ------------  ------------  ------------  \n",
      "Self CPU time total: 147.620ms\n",
      "\n",
      "---------------------------------  ------------  ------------  ------------  ------------  ------------  ------------  ------------  ------------  \n",
      "                             Name    Self CPU %      Self CPU   CPU total %     CPU total  CPU time avg       CPU Mem  Self CPU Mem    # of Calls  \n",
      "---------------------------------  ------------  ------------  ------------  ------------  ------------  ------------  ------------  ------------  \n",
      "                      aten::empty         0.86%       1.264ms         0.86%       1.264ms       2.981us      84.41 Mb      84.41 Mb           424  \n",
      "                     aten::conv2d         0.58%     851.000us        79.22%     116.943ms       2.206ms      42.40 Mb           0 b            53  \n",
      "                aten::convolution         2.36%       3.488ms        78.64%     116.092ms       2.190ms      42.40 Mb           0 b            53  \n",
      "               aten::_convolution         0.54%     804.000us        76.28%     112.604ms       2.125ms      42.40 Mb           0 b            53  \n",
      "         aten::mkldnn_convolution        74.89%     110.546ms        75.73%     111.800ms       2.109ms      42.40 Mb           0 b            53  \n",
      "                 aten::batch_norm         0.56%     823.000us         8.34%      12.308ms     232.226us      42.40 Mb           0 b            53  \n",
      "     aten::_batch_norm_impl_index         1.03%       1.519ms         7.78%      11.485ms     216.698us      42.40 Mb           0 b            53  \n",
      "          aten::native_batch_norm         6.32%       9.334ms         6.70%       9.887ms     186.547us      42.40 Mb    -196.75 Kb            53  \n",
      "                 aten::empty_like         0.09%     126.000us         0.26%     391.000us       7.377us      42.40 Mb     588.00 Kb            53  \n",
      "                 aten::max_pool2d         0.33%     488.000us         2.33%       3.434ms       3.434ms       2.30 Mb           0 b             1  \n",
      "---------------------------------  ------------  ------------  ------------  ------------  ------------  ------------  ------------  ------------  \n",
      "Self CPU time total: 147.620ms\n",
      "\n"
     ]
    }
   ],
   "source": [
    "from torchvision.models import resnet50, ResNet50_Weights\n",
    "from torch.profiler import profile, record_function, ProfilerActivity\n",
    "\n",
    "# Step 1: Initialize model with the best available weights\n",
    "weights = ResNet50_Weights.DEFAULT\n",
    "model = resnet50(weights=weights)\n",
    "model.eval()\n",
    "\n",
    "# Step 2: Initialize the inference transforms\n",
    "preprocess = weights.transforms()\n",
    "\n",
    "# Step 3: Apply inference preprocessing transforms\n",
    "batch = preprocess(img).unsqueeze(0)\n",
    "\n",
    "with profile(activities=[ProfilerActivity.CPU],\n",
    "        profile_memory=True, record_shapes=True) as prof:\n",
    "    model(batch)\n",
    "\n",
    "print(prof.key_averages().table(sort_by=\"self_cpu_memory_usage\", row_limit=10))\n",
    "print(prof.key_averages().table(sort_by=\"cpu_memory_usage\", row_limit=10))\n"
   ],
   "metadata": {
    "collapsed": false
   }
  },
  {
   "cell_type": "code",
   "execution_count": 9,
   "outputs": [
    {
     "name": "stdout",
     "output_type": "stream",
     "text": [
      "---------------------------------  ------------  ------------  ------------  ------------  ------------  ------------  ------------  ------------  \n",
      "                             Name    Self CPU %      Self CPU   CPU total %     CPU total  CPU time avg       CPU Mem  Self CPU Mem    # of Calls  \n",
      "---------------------------------  ------------  ------------  ------------  ------------  ------------  ------------  ------------  ------------  \n",
      "                      aten::empty         0.23%      92.000us         0.23%      92.000us       8.364us       1.85 Mb       1.85 Mb            11  \n",
      "    aten::max_pool2d_with_indices         2.11%     840.000us         2.11%     840.000us     280.000us       1.01 Mb       1.01 Mb             3  \n",
      "                    aten::resize_         0.05%      18.000us         0.05%      18.000us      18.000us      36.00 Kb      36.00 Kb             1  \n",
      "                      aten::addmm        39.41%      15.686ms        39.53%      15.733ms       5.244ms      35.91 Kb      35.91 Kb             3  \n",
      "                     aten::conv2d         0.09%      34.000us        52.09%      20.729ms       4.146ms       1.85 Mb           0 b             5  \n",
      "                aten::convolution         0.36%     145.000us        52.00%      20.695ms       4.139ms       1.85 Mb           0 b             5  \n",
      "               aten::_convolution         0.19%      75.000us        51.64%      20.550ms       4.110ms       1.85 Mb           0 b             5  \n",
      "         aten::mkldnn_convolution        51.20%      20.375ms        51.45%      20.475ms       4.095ms       1.85 Mb           0 b             5  \n",
      "                aten::as_strided_         0.05%      19.000us         0.05%      19.000us       3.800us           0 b           0 b             5  \n",
      "                      aten::relu_         0.36%     143.000us         1.04%     413.000us      59.000us           0 b           0 b             7  \n",
      "---------------------------------  ------------  ------------  ------------  ------------  ------------  ------------  ------------  ------------  \n",
      "Self CPU time total: 39.798ms\n",
      "\n",
      "---------------------------------  ------------  ------------  ------------  ------------  ------------  ------------  ------------  ------------  \n",
      "                             Name    Self CPU %      Self CPU   CPU total %     CPU total  CPU time avg       CPU Mem  Self CPU Mem    # of Calls  \n",
      "---------------------------------  ------------  ------------  ------------  ------------  ------------  ------------  ------------  ------------  \n",
      "                     aten::conv2d         0.09%      34.000us        52.09%      20.729ms       4.146ms       1.85 Mb           0 b             5  \n",
      "                aten::convolution         0.36%     145.000us        52.00%      20.695ms       4.139ms       1.85 Mb           0 b             5  \n",
      "               aten::_convolution         0.19%      75.000us        51.64%      20.550ms       4.110ms       1.85 Mb           0 b             5  \n",
      "         aten::mkldnn_convolution        51.20%      20.375ms        51.45%      20.475ms       4.095ms       1.85 Mb           0 b             5  \n",
      "                      aten::empty         0.23%      92.000us         0.23%      92.000us       8.364us       1.85 Mb       1.85 Mb            11  \n",
      "                 aten::max_pool2d         0.04%      17.000us         2.15%     857.000us     285.667us       1.01 Mb           0 b             3  \n",
      "    aten::max_pool2d_with_indices         2.11%     840.000us         2.11%     840.000us     280.000us       1.01 Mb       1.01 Mb             3  \n",
      "        aten::adaptive_avg_pool2d         1.28%     510.000us         4.03%       1.604ms       1.604ms      36.00 Kb           0 b             1  \n",
      "       aten::_adaptive_avg_pool2d         2.68%       1.065ms         2.75%       1.094ms       1.094ms      36.00 Kb           0 b             1  \n",
      "                    aten::resize_         0.05%      18.000us         0.05%      18.000us      18.000us      36.00 Kb      36.00 Kb             1  \n",
      "---------------------------------  ------------  ------------  ------------  ------------  ------------  ------------  ------------  ------------  \n",
      "Self CPU time total: 39.798ms\n",
      "\n"
     ]
    }
   ],
   "source": [
    "from torchvision.models import alexnet, ResNet50_Weights, AlexNet_Weights\n",
    "\n",
    "# Step 1: Initialize model with the best available weights\n",
    "weights = AlexNet_Weights.DEFAULT\n",
    "model = alexnet(weights=weights)\n",
    "model.eval()\n",
    "\n",
    "# Step 2: Initialize the inference transforms\n",
    "preprocess = weights.transforms()\n",
    "\n",
    "# Step 3: Apply inference preprocessing transforms\n",
    "batch = preprocess(img).unsqueeze(0)\n",
    "\n",
    "# Step 4: Use the model and print the predicted category\n",
    "with profile(activities=[ProfilerActivity.CPU],\n",
    "        profile_memory=True, record_shapes=True) as prof:\n",
    "    model(batch)\n",
    "print(prof.key_averages().table(sort_by=\"self_cpu_memory_usage\", row_limit=10))\n",
    "print(prof.key_averages().table(sort_by=\"cpu_memory_usage\", row_limit=10))"
   ],
   "metadata": {
    "collapsed": false
   }
  },
  {
   "cell_type": "code",
   "execution_count": 10,
   "outputs": [
    {
     "name": "stdout",
     "output_type": "stream",
     "text": [
      "---------------------------------  ------------  ------------  ------------  ------------  ------------  ------------  ------------  ------------  \n",
      "                             Name    Self CPU %      Self CPU   CPU total %     CPU total  CPU time avg       CPU Mem  Self CPU Mem    # of Calls  \n",
      "---------------------------------  ------------  ------------  ------------  ------------  ------------  ------------  ------------  ------------  \n",
      "                      aten::empty         0.22%     329.000us         0.22%     329.000us      12.185us      51.68 Mb      51.68 Mb            27  \n",
      "    aten::max_pool2d_with_indices         4.47%       6.791ms         4.47%       6.791ms       1.358ms      17.51 Mb      17.51 Mb             5  \n",
      "                    aten::resize_         0.00%       3.000us         0.00%       3.000us       3.000us      98.00 Kb      98.00 Kb             1  \n",
      "                      aten::addmm        13.09%      19.896ms        13.11%      19.922ms       6.641ms      35.91 Kb      35.91 Kb             3  \n",
      "                     aten::conv2d         0.05%      77.000us        80.10%     121.722ms       9.363ms      51.68 Mb           0 b            13  \n",
      "                aten::convolution         0.18%     272.000us        80.05%     121.645ms       9.357ms      51.68 Mb           0 b            13  \n",
      "               aten::_convolution         0.12%     183.000us        79.87%     121.373ms       9.336ms      51.68 Mb           0 b            13  \n",
      "         aten::mkldnn_convolution        79.51%     120.823ms        79.75%     121.190ms       9.322ms      51.68 Mb           0 b            13  \n",
      "                aten::as_strided_         0.03%      39.000us         0.03%      39.000us       3.000us           0 b           0 b            13  \n",
      "                      aten::relu_         0.18%     277.000us         2.17%       3.294ms     219.600us           0 b           0 b            15  \n",
      "---------------------------------  ------------  ------------  ------------  ------------  ------------  ------------  ------------  ------------  \n",
      "Self CPU time total: 151.965ms\n",
      "\n",
      "---------------------------------  ------------  ------------  ------------  ------------  ------------  ------------  ------------  ------------  \n",
      "                             Name    Self CPU %      Self CPU   CPU total %     CPU total  CPU time avg       CPU Mem  Self CPU Mem    # of Calls  \n",
      "---------------------------------  ------------  ------------  ------------  ------------  ------------  ------------  ------------  ------------  \n",
      "                     aten::conv2d         0.05%      77.000us        80.10%     121.722ms       9.363ms      51.68 Mb           0 b            13  \n",
      "                aten::convolution         0.18%     272.000us        80.05%     121.645ms       9.357ms      51.68 Mb           0 b            13  \n",
      "               aten::_convolution         0.12%     183.000us        79.87%     121.373ms       9.336ms      51.68 Mb           0 b            13  \n",
      "         aten::mkldnn_convolution        79.51%     120.823ms        79.75%     121.190ms       9.322ms      51.68 Mb           0 b            13  \n",
      "                      aten::empty         0.22%     329.000us         0.22%     329.000us      12.185us      51.68 Mb      51.68 Mb            27  \n",
      "                 aten::max_pool2d         0.02%      28.000us         4.49%       6.819ms       1.364ms      17.51 Mb           0 b             5  \n",
      "    aten::max_pool2d_with_indices         4.47%       6.791ms         4.47%       6.791ms       1.358ms      17.51 Mb      17.51 Mb             5  \n",
      "        aten::adaptive_avg_pool2d         0.00%       3.000us         0.08%     122.000us     122.000us      98.00 Kb           0 b             1  \n",
      "       aten::_adaptive_avg_pool2d         0.08%     115.000us         0.08%     119.000us     119.000us      98.00 Kb           0 b             1  \n",
      "                    aten::resize_         0.00%       3.000us         0.00%       3.000us       3.000us      98.00 Kb      98.00 Kb             1  \n",
      "---------------------------------  ------------  ------------  ------------  ------------  ------------  ------------  ------------  ------------  \n",
      "Self CPU time total: 151.965ms\n",
      "\n"
     ]
    }
   ],
   "source": [
    "from torchvision.models import vgg16, ResNet50_Weights, VGG16_Weights\n",
    "\n",
    "# Step 1: Initialize model with the best available weights\n",
    "weights = VGG16_Weights.DEFAULT\n",
    "model = vgg16(weights=weights)\n",
    "model.eval()\n",
    "\n",
    "# Step 2: Initialize the inference transforms\n",
    "preprocess = weights.transforms()\n",
    "\n",
    "# Step 3: Apply inference preprocessing transforms\n",
    "batch = preprocess(img).unsqueeze(0)\n",
    "\n",
    "# Step 4: Use the model and print the predicted category\n",
    "with profile(activities=[ProfilerActivity.CPU],\n",
    "        profile_memory=True, record_shapes=True) as prof:\n",
    "    model(batch)\n",
    "print(prof.key_averages().table(sort_by=\"self_cpu_memory_usage\", row_limit=10))\n",
    "print(prof.key_averages().table(sort_by=\"cpu_memory_usage\", row_limit=10))"
   ],
   "metadata": {
    "collapsed": false
   }
  }
 ],
 "metadata": {
  "kernelspec": {
   "display_name": "Python 3",
   "language": "python",
   "name": "python3"
  },
  "language_info": {
   "codemirror_mode": {
    "name": "ipython",
    "version": 2
   },
   "file_extension": ".py",
   "mimetype": "text/x-python",
   "name": "python",
   "nbconvert_exporter": "python",
   "pygments_lexer": "ipython2",
   "version": "2.7.6"
  }
 },
 "nbformat": 4,
 "nbformat_minor": 0
}
